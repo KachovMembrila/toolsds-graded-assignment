{
 "cells": [
  {
   "cell_type": "markdown",
   "id": "ec5099b7-384d-4132-a619-41603892b417",
   "metadata": {},
   "source": [
    "# Data Science Tools and Ecosystem"
   ]
  },
  {
   "cell_type": "markdown",
   "id": "894092a7-6000-4777-b78d-890e5f78fab2",
   "metadata": {},
   "source": [
    "#### In this notebook, some of the most popular and useful data science tools are listed."
   ]
  },
  {
   "cell_type": "markdown",
   "id": "e95a7654-65cd-4a01-87fc-2ca728051168",
   "metadata": {},
   "source": [
    " **Objectives:**\n",
    "- List popular languages for Data Science\n",
    "- Present libraries for data science\n",
    "- Review Data Science tools\n",
    "- Arithmetic expression examples"
   ]
  },
  {
   "cell_type": "markdown",
   "id": "5f42fdfc",
   "metadata": {},
   "source": []
  },
  {
   "cell_type": "markdown",
   "id": "99a1a447-cef0-4f8b-af9c-75d265378e7c",
   "metadata": {},
   "source": [
    "##### Some of the most commonly used languages for data science are:\n",
    "1. Python\n",
    "2. R\n",
    "3. SQL\n",
    "4. Scala\n",
    "\n",
    "##### However, there are other languages like Julia, Java, C++ that have some useful features as well. The language chosen will depend on the specific problems to solve."
   ]
  },
  {
   "cell_type": "markdown",
   "id": "8619c216-e26f-4910-ba63-70235ed228dd",
   "metadata": {},
   "source": [
    "##### Some of the commonly used libraries used by Data Scientists include:\n",
    "- Pandas. It allows to process data in two-dimensional table called a Data Frame.\n",
    "- NumPy. Based on arrays and matrices to apply mathematical functions.\n",
    "- Matplotlib. Python library for data visualization in python.\n",
    "- Scikit-learn. Contains tools for statistical modeling in python.\n",
    "- Keras. It allows to build models in a simple manner.\n",
    "- Vegas. Scala library for statistical data visualizations.\n",
    "- ggplot2. Popular library for visualization in R."
   ]
  },
  {
   "cell_type": "markdown",
   "id": "98f655f9-7696-40a5-8c56-36750adbfab5",
   "metadata": {
    "tags": []
   },
   "source": [
    "|Data Science Tools|\n",
    "|---|\n",
    "|Jupyter|\n",
    "|RStudio|\n",
    "|Spyder|\n"
   ]
  },
  {
   "cell_type": "markdown",
   "id": "34d8de4d-e4ee-404b-ac1e-a6986b0a8b7a",
   "metadata": {},
   "source": [
    "### Below are a few examples of evaluating arithmetic expressions in Python."
   ]
  },
  {
   "cell_type": "code",
   "execution_count": null,
   "id": "1e7131d1-0151-44b1-a933-dcd6440015e3",
   "metadata": {
    "tags": []
   },
   "outputs": [
    {
     "data": {
      "text/plain": [
       "17"
      ]
     },
     "execution_count": 2,
     "metadata": {},
     "output_type": "execute_result"
    }
   ],
   "source": [
    "# This is a simple arithmetic expression to multiply then add integers.\n",
    "(3*4)+5"
   ]
  },
  {
   "cell_type": "code",
   "execution_count": null,
   "id": "da0de726-691f-494f-b3cb-2ad688a7b519",
   "metadata": {
    "tags": []
   },
   "outputs": [
    {
     "data": {
      "text/plain": [
       "3.3333333333333335"
      ]
     },
     "execution_count": 3,
     "metadata": {},
     "output_type": "execute_result"
    }
   ],
   "source": [
    "# This will convert 200 minutes to hours diving by 60.\n",
    "hours = 200/60\n",
    "hours"
   ]
  },
  {
   "cell_type": "markdown",
   "id": "a14cc389-511d-48c0-8fc6-d20775768a1d",
   "metadata": {},
   "source": [
    "## Author\n",
    "Karla Membrila"
   ]
  },
  {
   "cell_type": "code",
   "execution_count": null,
   "id": "4f748fa7-163b-4111-8f0c-ac61cb84a5b5",
   "metadata": {},
   "outputs": [],
   "source": []
  }
 ],
 "metadata": {
  "kernelspec": {
   "display_name": "Python",
   "language": "python",
   "name": "conda-env-python-py"
  },
  "language_info": {
   "codemirror_mode": {
    "name": "ipython",
    "version": 3
   },
   "file_extension": ".py",
   "mimetype": "text/x-python",
   "name": "python",
   "nbconvert_exporter": "python",
   "pygments_lexer": "ipython3",
   "version": "3.7.12"
  }
 },
 "nbformat": 4,
 "nbformat_minor": 5
}
